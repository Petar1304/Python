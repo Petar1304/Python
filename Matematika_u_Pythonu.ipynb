{
 "cells": [
  {
   "cell_type": "code",
   "execution_count": 9,
   "id": "3764d88a",
   "metadata": {},
   "outputs": [],
   "source": [
    "import math\n",
    "import math as m\n",
    "from math import *\n",
    "from math import sin, cos \n",
    "import numpy as np\n",
    "import sympy as sp"
   ]
  },
  {
   "cell_type": "code",
   "execution_count": null,
   "id": "b0597c44",
   "metadata": {},
   "outputs": [],
   "source": [
    "# CONSTANTS\n",
    "math.pi # 3.14...\n",
    "math.e # euler's number\n",
    "math.tau # 2 * math.pi\n",
    "math.inf # infinity\n",
    "math.nan # not a number"
   ]
  },
  {
   "cell_type": "code",
   "execution_count": null,
   "id": "00ea672c",
   "metadata": {},
   "outputs": [],
   "source": [
    "# FUNCTIONS\n",
    "math.ceil(x) # zaokruzuje na visu vrednost\n",
    "math.floor(x) # zaokruzicanje na manju vrednost\n",
    "math.trunc(x) # odsecanje decimalnog dela\n",
    "math.fabs(x) # apsolutna vrednost\n",
    "math.factorial(x) # faktorijal\n",
    "\n",
    "math.gcd(integers...) # najveci zajednicki delilac\n",
    "math.lcm(integers...) # najmanji zajednicki sadrzalac"
   ]
  },
  {
   "cell_type": "markdown",
   "id": "153f549a",
   "metadata": {},
   "source": [
    "## kombinatorika"
   ]
  },
  {
   "cell_type": "code",
   "execution_count": null,
   "id": "d60f6a38",
   "metadata": {},
   "outputs": [],
   "source": [
    "math.perm(n, k) # permutacije\n",
    "math.comb(n, k) # kombinacije"
   ]
  },
  {
   "cell_type": "markdown",
   "id": "73d2cf8b",
   "metadata": {},
   "source": [
    "## trigonometrija"
   ]
  },
  {
   "cell_type": "code",
   "execution_count": null,
   "id": "36468f06",
   "metadata": {},
   "outputs": [],
   "source": [
    "math.sin(x)\n",
    "math.cos(x)\n",
    "math.asin(x)\n",
    "math.acos(x)\n",
    "math.tan(x)\n",
    "math.atan(x)\n",
    "math.dist(p, q) # distance between 2 points (p, q)\n",
    "math.degrees(x)\n",
    "math.radians(x)\n",
    "math.sinh(x)\n",
    "math.asinh(x)"
   ]
  },
  {
   "cell_type": "code",
   "execution_count": null,
   "id": "80c6974c",
   "metadata": {},
   "outputs": [],
   "source": [
    "math.exp(x)\n",
    "math.log(x, [base]) # default base = e\n",
    "math.log10(x)\n",
    "math.pow(x, y) # x^y\n",
    "math.sqrt(x)"
   ]
  },
  {
   "cell_type": "code",
   "execution_count": 11,
   "id": "153c8f8e",
   "metadata": {},
   "outputs": [],
   "source": [
    "import sympy as sp\n",
    "import numpy as np"
   ]
  },
  {
   "cell_type": "code",
   "execution_count": 5,
   "id": "c04e4aaf",
   "metadata": {},
   "outputs": [
    {
     "data": {
      "text/latex": [
       "$\\displaystyle x^{2} + x + 1$"
      ],
      "text/plain": [
       "x**2 + x + 1"
      ]
     },
     "execution_count": 5,
     "metadata": {},
     "output_type": "execute_result"
    }
   ],
   "source": [
    "x = sp.symbols('x')\n",
    "func = x**2 + x + 1\n",
    "func"
   ]
  },
  {
   "cell_type": "code",
   "execution_count": 6,
   "id": "2abfb138",
   "metadata": {},
   "outputs": [
    {
     "data": {
      "text/latex": [
       "$\\displaystyle 2 x + 1$"
      ],
      "text/plain": [
       "2*x + 1"
      ]
     },
     "execution_count": 6,
     "metadata": {},
     "output_type": "execute_result"
    }
   ],
   "source": [
    "sp.diff(func)"
   ]
  },
  {
   "cell_type": "markdown",
   "id": "a3a5596e",
   "metadata": {},
   "source": [
    "# NUMPY"
   ]
  },
  {
   "cell_type": "code",
   "execution_count": 19,
   "id": "def55f87",
   "metadata": {},
   "outputs": [],
   "source": [
    "import numpy as np"
   ]
  },
  {
   "cell_type": "code",
   "execution_count": 49,
   "id": "96e12af5",
   "metadata": {},
   "outputs": [
    {
     "data": {
      "text/plain": [
       "array([[1, 1, 1],\n",
       "       [2, 2, 2],\n",
       "       [3, 3, 3],\n",
       "       [4, 4, 4],\n",
       "       [5, 5, 5]])"
      ]
     },
     "execution_count": 49,
     "metadata": {},
     "output_type": "execute_result"
    }
   ],
   "source": [
    "arr = np.array([[1, 2, 3, 4, 5], [1, 2, 3, 4, 5], [1, 2, 3, 4, 5]])\n",
    "\n",
    "np.zeros((2, 3))\n",
    "np.ones((2, 3))\n",
    "np.full((3, 3), 5)\n",
    "np.eye(3)\n",
    "np.arange(pocetak, kraj, razlika)\n",
    "np.linspace(pocetak, kraj, broj_tacaka)\n",
    "\n",
    "arr.shape # (3, 5)\n",
    "arr.dtype # int64\n",
    "arr.ndim # 2\n",
    "arr.size # 15\n",
    "arr.T # transpose"
   ]
  },
  {
   "cell_type": "markdown",
   "id": "6e43ff10",
   "metadata": {},
   "source": [
    "## funkcije"
   ]
  },
  {
   "cell_type": "code",
   "execution_count": null,
   "id": "d5cbf297",
   "metadata": {},
   "outputs": [],
   "source": [
    "np.std(arr) # standard diviation\n",
    "np.mean(arr)\n",
    "np.sin(np.pi)\n",
    "np.arcsin(np.pi/2)"
   ]
  },
  {
   "cell_type": "code",
   "execution_count": 48,
   "id": "283b875e",
   "metadata": {},
   "outputs": [
    {
     "data": {
      "text/plain": [
       "array([ 8,  0, -2])"
      ]
     },
     "execution_count": 48,
     "metadata": {},
     "output_type": "execute_result"
    }
   ],
   "source": [
    "# Dot and Cross Product\n",
    "\n",
    "a = np.array([1, 2, 4])\n",
    "b = np.array([3, 4, 12])\n",
    "\n",
    "np.dot(a, b)\n",
    "a @ b\n",
    "np.cross(a, b)"
   ]
  },
  {
   "cell_type": "markdown",
   "id": "0dcbe47a",
   "metadata": {},
   "source": [
    "## Sistemi jednacina"
   ]
  },
  {
   "cell_type": "markdown",
   "id": "c0ea1b3a",
   "metadata": {},
   "source": [
    "$3x + 2y + z = 4 \\\\ 5x - 5y + 4z = 3 \\\\ 6x + z = 0$"
   ]
  },
  {
   "cell_type": "code",
   "execution_count": 36,
   "id": "eebb4d14",
   "metadata": {},
   "outputs": [
    {
     "data": {
      "text/plain": [
       "array([-0.49056604,  1.26415094,  2.94339623])"
      ]
     },
     "execution_count": 36,
     "metadata": {},
     "output_type": "execute_result"
    }
   ],
   "source": [
    "A = np.array([[3, 2, 1], [5, -5, 4], [6, 0, 1]])\n",
    "b = np.array([4, 3, 0])\n",
    "\n",
    "np.linalg.solve(A, b)"
   ]
  },
  {
   "cell_type": "markdown",
   "id": "6e88906e",
   "metadata": {},
   "source": [
    "## Sopstvene vrednosti, sopstveni vektori, determinanta"
   ]
  },
  {
   "cell_type": "code",
   "execution_count": 41,
   "id": "0c8c1868",
   "metadata": {
    "scrolled": true
   },
   "outputs": [
    {
     "data": {
      "text/plain": [
       "(array([2., 8., 2.]),\n",
       " array([[-0.81649658,  0.57735027, -0.32444284],\n",
       "        [ 0.40824829,  0.57735027, -0.48666426],\n",
       "        [ 0.40824829,  0.57735027,  0.81110711]]))"
      ]
     },
     "execution_count": 41,
     "metadata": {},
     "output_type": "execute_result"
    }
   ],
   "source": [
    "matrix = np.array([[4, 2, 2], [2, 4, 2], [2, 2, 4]])\n",
    "np.linalg.det(matrix) # 32x\n",
    "np.linalg.eig(matrix)"
   ]
  },
  {
   "cell_type": "markdown",
   "id": "a048abe7",
   "metadata": {},
   "source": [
    "## Izvodi i integrali (numericki)"
   ]
  },
  {
   "cell_type": "markdown",
   "id": "fd8eddbe",
   "metadata": {},
   "source": [
    "$y = \\frac{1}{x^2}sin(x)$"
   ]
  },
  {
   "cell_type": "code",
   "execution_count": 55,
   "id": "229b2980",
   "metadata": {},
   "outputs": [],
   "source": [
    "x = np.linspace(1, 10, 100)\n",
    "y = 1/x**2 * np.sin(x)\n",
    "# izvod\n",
    "dydx = np.gradient(y, x)\n",
    "integral = np.cumsum(y) * (x[1] - x[0])"
   ]
  },
  {
   "cell_type": "code",
   "execution_count": 56,
   "id": "744cd859",
   "metadata": {},
   "outputs": [
    {
     "data": {
      "image/png": "[encoded data removed]",
      "text/plain": [
       "<Figure size 432x288 with 1 Axes>"
      ]
     },
     "metadata": {
      "needs_background": "light"
     },
     "output_type": "display_data"
    }
   ],
   "source": [
    "import matplotlib.pyplot as plt\n",
    "\n",
    "plt.plot(x, y)\n",
    "plt.plot(x, dydx)\n",
    "plt.plot(x, integral)\n",
    "plt.grid()"
   ]
  },
  {
   "cell_type": "markdown",
   "id": "93573b98",
   "metadata": {},
   "source": [
    "# SYMPY"
   ]
  },
  {
   "cell_type": "code",
   "execution_count": 4,
   "id": "49b6a68c",
   "metadata": {},
   "outputs": [],
   "source": [
    "import sympy as sp"
   ]
  },
  {
   "cell_type": "code",
   "execution_count": 85,
   "id": "d9a06e82",
   "metadata": {},
   "outputs": [
    {
     "data": {
      "text/latex": [
       "$\\displaystyle x$"
      ],
      "text/plain": [
       "x"
      ]
     },
     "execution_count": 85,
     "metadata": {},
     "output_type": "execute_result"
    }
   ],
   "source": [
    "x, y, z = sp.symbols('x y z')\n",
    "x = sp.symbols('x', real=True)\n",
    "t = sp.symbols('t', real=True, positive=True)\n",
    "x"
   ]
  },
  {
   "cell_type": "code",
   "execution_count": 86,
   "id": "e7dccbcc",
   "metadata": {},
   "outputs": [
    {
     "data": {
      "text/latex": [
       "$\\displaystyle \\lambda_{0}$"
      ],
      "text/plain": [
       "lambda_0"
      ]
     },
     "execution_count": 86,
     "metadata": {},
     "output_type": "execute_result"
    }
   ],
   "source": [
    "l_0 = sp.symbols('lambda_0')\n",
    "l_0"
   ]
  },
  {
   "cell_type": "code",
   "execution_count": 91,
   "id": "aab1fc1d",
   "metadata": {},
   "outputs": [
    {
     "data": {
      "text/latex": [
       "$\\displaystyle \\frac{1}{2}$"
      ],
      "text/plain": [
       "1/2"
      ]
     },
     "execution_count": 91,
     "metadata": {},
     "output_type": "execute_result"
    }
   ],
   "source": [
    "sp.Rational(1/2)"
   ]
  },
  {
   "cell_type": "code",
   "execution_count": 24,
   "id": "5b85b41b",
   "metadata": {},
   "outputs": [
    {
     "data": {
      "text/latex": [
       "$\\displaystyle \\sin{\\left(x \\right)}$"
      ],
      "text/plain": [
       "sin(x)"
      ]
     },
     "execution_count": 24,
     "metadata": {},
     "output_type": "execute_result"
    }
   ],
   "source": [
    "sp.sin(x)"
   ]
  },
  {
   "cell_type": "code",
   "execution_count": 35,
   "id": "b3684df8",
   "metadata": {},
   "outputs": [
    {
     "data": {
      "text/latex": [
       "$\\displaystyle \\log{\\left(x \\right)}$"
      ],
      "text/plain": [
       "log(x)"
      ]
     },
     "execution_count": 35,
     "metadata": {},
     "output_type": "execute_result"
    }
   ],
   "source": [
    "sp.log(x)"
   ]
  },
  {
   "cell_type": "code",
   "execution_count": 38,
   "id": "12121cd6",
   "metadata": {},
   "outputs": [
    {
     "data": {
      "text/latex": [
       "$\\displaystyle e^{x + y}$"
      ],
      "text/plain": [
       "exp(x + y)"
      ]
     },
     "execution_count": 38,
     "metadata": {},
     "output_type": "execute_result"
    }
   ],
   "source": [
    "func = sp.exp(x+y)\n",
    "func"
   ]
  },
  {
   "cell_type": "code",
   "execution_count": 39,
   "id": "07783d55",
   "metadata": {},
   "outputs": [
    {
     "data": {
      "text/latex": [
       "$\\displaystyle e^{x} e^{y}$"
      ],
      "text/plain": [
       "exp(x)*exp(y)"
      ]
     },
     "execution_count": 39,
     "metadata": {},
     "output_type": "execute_result"
    }
   ],
   "source": [
    "func.expand()"
   ]
  },
  {
   "cell_type": "code",
   "execution_count": 41,
   "id": "0a6f20ef",
   "metadata": {},
   "outputs": [
    {
     "data": {
      "text/latex": [
       "$\\displaystyle e^{x + 3}$"
      ],
      "text/plain": [
       "exp(x + 3)"
      ]
     },
     "execution_count": 41,
     "metadata": {},
     "output_type": "execute_result"
    }
   ],
   "source": [
    "func.subs(y, 3)"
   ]
  },
  {
   "cell_type": "markdown",
   "id": "a569dd90",
   "metadata": {},
   "source": [
    "## Polinomi"
   ]
  },
  {
   "cell_type": "code",
   "execution_count": 63,
   "id": "22329d93",
   "metadata": {},
   "outputs": [
    {
     "data": {
      "text/latex": [
       "$\\displaystyle x^{2} + 4 x + 3$"
      ],
      "text/plain": [
       "x**2 + 4*x + 3"
      ]
     },
     "execution_count": 63,
     "metadata": {},
     "output_type": "execute_result"
    }
   ],
   "source": [
    "y = x**2 + 4*x + 3\n",
    "y"
   ]
  },
  {
   "cell_type": "code",
   "execution_count": 64,
   "id": "0591d870",
   "metadata": {},
   "outputs": [
    {
     "data": {
      "text/latex": [
       "$\\displaystyle \\left(x^{2} + 4 x + 3\\right)^{2}$"
      ],
      "text/plain": [
       "(x**2 + 4*x + 3)**2"
      ]
     },
     "execution_count": 64,
     "metadata": {},
     "output_type": "execute_result"
    }
   ],
   "source": [
    "f = y**2\n",
    "f"
   ]
  },
  {
   "cell_type": "code",
   "execution_count": 65,
   "id": "92b15063",
   "metadata": {},
   "outputs": [
    {
     "data": {
      "text/latex": [
       "$\\displaystyle \\left(x + 1\\right)^{2} \\left(x + 3\\right)^{2}$"
      ],
      "text/plain": [
       "(x + 1)**2*(x + 3)**2"
      ]
     },
     "execution_count": 65,
     "metadata": {},
     "output_type": "execute_result"
    }
   ],
   "source": [
    "f.factor()"
   ]
  },
  {
   "cell_type": "markdown",
   "id": "2f4faf38",
   "metadata": {},
   "source": [
    "Resava $f(x) = 0$"
   ]
  },
  {
   "cell_type": "code",
   "execution_count": 66,
   "id": "58e4222d",
   "metadata": {},
   "outputs": [
    {
     "data": {
      "text/plain": [
       "[-3, -1]"
      ]
     },
     "execution_count": 66,
     "metadata": {},
     "output_type": "execute_result"
    }
   ],
   "source": [
    "sp.solve(f, x)"
   ]
  },
  {
   "cell_type": "markdown",
   "id": "f2a2cdc5",
   "metadata": {},
   "source": [
    "Pretvaranje u numericku funkciju:"
   ]
  },
  {
   "cell_type": "code",
   "execution_count": 70,
   "id": "fccfb599",
   "metadata": {},
   "outputs": [
    {
     "data": {
      "text/plain": [
       "15"
      ]
     },
     "execution_count": 70,
     "metadata": {},
     "output_type": "execute_result"
    }
   ],
   "source": [
    "expr_y = sp.lambdify(x, y)\n",
    "expr_y(2)"
   ]
  },
  {
   "cell_type": "code",
   "execution_count": 71,
   "id": "abc41d74",
   "metadata": {},
   "outputs": [
    {
     "data": {
      "text/latex": [
       "$\\displaystyle 15$"
      ],
      "text/plain": [
       "15"
      ]
     },
     "execution_count": 71,
     "metadata": {},
     "output_type": "execute_result"
    }
   ],
   "source": [
    "# drugi nacin\n",
    "y.subs(x, 2)"
   ]
  },
  {
   "cell_type": "markdown",
   "id": "8ed95b2c",
   "metadata": {},
   "source": [
    "## Limesi"
   ]
  },
  {
   "cell_type": "code",
   "execution_count": 101,
   "id": "5908c9df",
   "metadata": {},
   "outputs": [
    {
     "data": {
      "text/latex": [
       "$\\displaystyle \\cot{\\left(x \\right)} \\csc{\\left(x \\right)}$"
      ],
      "text/plain": [
       "cot(x)*csc(x)"
      ]
     },
     "execution_count": 101,
     "metadata": {},
     "output_type": "execute_result"
    }
   ],
   "source": [
    "func = sp.csc(x)*sp.cot(x)\n",
    "func"
   ]
  },
  {
   "cell_type": "code",
   "execution_count": 109,
   "id": "6533e1ae",
   "metadata": {},
   "outputs": [
    {
     "data": {
      "text/latex": [
       "$\\displaystyle \\sqrt{2}$"
      ],
      "text/plain": [
       "sqrt(2)"
      ]
     },
     "execution_count": 109,
     "metadata": {},
     "output_type": "execute_result"
    }
   ],
   "source": [
    "sp.limit(func, x, sp.pi/4)"
   ]
  },
  {
   "cell_type": "markdown",
   "id": "6246e7de",
   "metadata": {},
   "source": [
    "## Integrali"
   ]
  },
  {
   "cell_type": "code",
   "execution_count": 117,
   "id": "25caad00",
   "metadata": {},
   "outputs": [
    {
     "data": {
      "text/latex": [
       "$\\displaystyle \\int \\cot{\\left(x \\right)} \\csc{\\left(x \\right)}\\, dx$"
      ],
      "text/plain": [
       "Integral(cot(x)*csc(x), x)"
      ]
     },
     "execution_count": 117,
     "metadata": {},
     "output_type": "execute_result"
    }
   ],
   "source": [
    "sp.Integral(func, x) "
   ]
  },
  {
   "cell_type": "code",
   "execution_count": 118,
   "id": "ad8c2a0b",
   "metadata": {},
   "outputs": [
    {
     "data": {
      "text/latex": [
       "$\\displaystyle - \\frac{1}{\\sin{\\left(x \\right)}}$"
      ],
      "text/plain": [
       "-1/sin(x)"
      ]
     },
     "execution_count": 118,
     "metadata": {},
     "output_type": "execute_result"
    }
   ],
   "source": [
    "sp.Integral(func, x).doit()"
   ]
  },
  {
   "cell_type": "code",
   "execution_count": 115,
   "id": "f1d47e2d",
   "metadata": {},
   "outputs": [
    {
     "data": {
      "text/latex": [
       "$\\displaystyle - \\frac{1}{\\sin{\\left(x \\right)}}$"
      ],
      "text/plain": [
       "-1/sin(x)"
      ]
     },
     "execution_count": 115,
     "metadata": {},
     "output_type": "execute_result"
    }
   ],
   "source": [
    "sp.integrate(func, x)"
   ]
  },
  {
   "cell_type": "code",
   "execution_count": 127,
   "id": "a4cdb4ad",
   "metadata": {},
   "outputs": [
    {
     "data": {
      "text/latex": [
       "$\\displaystyle - \\operatorname{asinh}{\\left(\\frac{1}{3} \\right)} + \\operatorname{asinh}{\\left(\\frac{4}{3} \\right)}$"
      ],
      "text/plain": [
       "-asinh(1/3) + asinh(4/3)"
      ]
     },
     "execution_count": 127,
     "metadata": {},
     "output_type": "execute_result"
    }
   ],
   "source": [
    "sp.integrate(sp.exp(x)/sp.sqrt(sp.exp(2*x) + 9), (x, 0, sp.log(4)))"
   ]
  },
  {
   "cell_type": "markdown",
   "id": "2b8400bf",
   "metadata": {},
   "source": [
    "$\\int_1^t x^{10} e^x dx$"
   ]
  },
  {
   "cell_type": "code",
   "execution_count": 130,
   "id": "07bafc3f",
   "metadata": {},
   "outputs": [
    {
     "data": {
      "text/latex": [
       "$\\displaystyle \\left(t^{10} - 10 t^{9} + 90 t^{8} - 720 t^{7} + 5040 t^{6} - 30240 t^{5} + 151200 t^{4} - 604800 t^{3} + 1814400 t^{2} - 3628800 t + 3628800\\right) e^{t} - 1334961 e$"
      ],
      "text/plain": [
       "(t**10 - 10*t**9 + 90*t**8 - 720*t**7 + 5040*t**6 - 30240*t**5 + 151200*t**4 - 604800*t**3 + 1814400*t**2 - 3628800*t + 3628800)*exp(t) - 1334961*E"
      ]
     },
     "execution_count": 130,
     "metadata": {},
     "output_type": "execute_result"
    }
   ],
   "source": [
    "sp.integrate(x**10 * sp.exp(x), (x, 1, t))"
   ]
  },
  {
   "cell_type": "markdown",
   "id": "97147a1c",
   "metadata": {},
   "source": [
    "## Vektori"
   ]
  },
  {
   "cell_type": "code",
   "execution_count": 137,
   "id": "834535f4",
   "metadata": {},
   "outputs": [
    {
     "data": {
      "text/latex": [
       "$\\displaystyle \\left[\\begin{matrix}v_{1}\\\\v_{2}\\\\v_{3}\\end{matrix}\\right]$"
      ],
      "text/plain": [
       "Matrix([\n",
       "[v_1],\n",
       "[v_2],\n",
       "[v_3]])"
      ]
     },
     "execution_count": 137,
     "metadata": {},
     "output_type": "execute_result"
    }
   ],
   "source": [
    "u1, u2, u3, v1, v2, v3 = sp.symbols('u_1 u_2 u_3 v_1 v_2 v_3')\n",
    "\n",
    "u = sp.Matrix([u1, u2, u3])\n",
    "v = sp.Matrix([v1, v2, v3])\n",
    "v"
   ]
  },
  {
   "cell_type": "code",
   "execution_count": 136,
   "id": "796175f3",
   "metadata": {},
   "outputs": [
    {
     "data": {
      "text/latex": [
       "$\\displaystyle \\left[\\begin{matrix}v_{1} & v_{2} & v_{3}\\end{matrix}\\right]$"
      ],
      "text/plain": [
       "Matrix([[v_1, v_2, v_3]])"
      ]
     },
     "execution_count": 136,
     "metadata": {},
     "output_type": "execute_result"
    }
   ],
   "source": [
    "v.T"
   ]
  },
  {
   "cell_type": "code",
   "execution_count": 139,
   "id": "9491a88f",
   "metadata": {},
   "outputs": [
    {
     "data": {
      "text/latex": [
       "$\\displaystyle \\left[\\begin{matrix}5 u_{1} - 2 v_{1}\\\\5 u_{2} - 2 v_{2}\\\\5 u_{3} - 2 v_{3}\\end{matrix}\\right]$"
      ],
      "text/plain": [
       "Matrix([\n",
       "[5*u_1 - 2*v_1],\n",
       "[5*u_2 - 2*v_2],\n",
       "[5*u_3 - 2*v_3]])"
      ]
     },
     "execution_count": 139,
     "metadata": {},
     "output_type": "execute_result"
    }
   ],
   "source": [
    "5 * u - 2 * v"
   ]
  },
  {
   "cell_type": "code",
   "execution_count": 140,
   "id": "ee4cb8d3",
   "metadata": {},
   "outputs": [
    {
     "data": {
      "text/latex": [
       "$\\displaystyle u_{1} v_{1} + u_{2} v_{2} + u_{3} v_{3}$"
      ],
      "text/plain": [
       "u_1*v_1 + u_2*v_2 + u_3*v_3"
      ]
     },
     "execution_count": 140,
     "metadata": {},
     "output_type": "execute_result"
    }
   ],
   "source": [
    "u.dot(v)"
   ]
  },
  {
   "cell_type": "code",
   "execution_count": 141,
   "id": "9fc76ce3",
   "metadata": {},
   "outputs": [
    {
     "data": {
      "text/latex": [
       "$\\displaystyle \\left[\\begin{matrix}u_{2} v_{3} - u_{3} v_{2}\\\\- u_{1} v_{3} + u_{3} v_{1}\\\\u_{1} v_{2} - u_{2} v_{1}\\end{matrix}\\right]$"
      ],
      "text/plain": [
       "Matrix([\n",
       "[ u_2*v_3 - u_3*v_2],\n",
       "[-u_1*v_3 + u_3*v_1],\n",
       "[ u_1*v_2 - u_2*v_1]])"
      ]
     },
     "execution_count": 141,
     "metadata": {},
     "output_type": "execute_result"
    }
   ],
   "source": [
    "u.cross(v)"
   ]
  },
  {
   "cell_type": "code",
   "execution_count": 142,
   "id": "45026d86",
   "metadata": {},
   "outputs": [
    {
     "data": {
      "text/latex": [
       "$\\displaystyle \\sqrt{\\left|{u_{1}}\\right|^{2} + \\left|{u_{2}}\\right|^{2} + \\left|{u_{3}}\\right|^{2}}$"
      ],
      "text/plain": [
       "sqrt(Abs(u_1)**2 + Abs(u_2)**2 + Abs(u_3)**2)"
      ]
     },
     "execution_count": 142,
     "metadata": {},
     "output_type": "execute_result"
    }
   ],
   "source": [
    "u.norm()"
   ]
  },
  {
   "cell_type": "code",
   "execution_count": null,
   "id": "a4698423",
   "metadata": {},
   "outputs": [],
   "source": []
  },
  {
   "cell_type": "markdown",
   "id": "80e8a377",
   "metadata": {},
   "source": [
    "## Izvodi"
   ]
  },
  {
   "cell_type": "markdown",
   "id": "9c3ca82f",
   "metadata": {},
   "source": [
    "$$\\frac{d}{dx} \\left( \\frac{1 + sin x}{1-\\cos x} \\right)^2$$"
   ]
  },
  {
   "cell_type": "code",
   "execution_count": 146,
   "id": "150990da",
   "metadata": {},
   "outputs": [
    {
     "data": {
      "text/latex": [
       "$\\displaystyle \\frac{2 \\left(\\sin{\\left(x \\right)} + 1\\right) \\cos{\\left(x \\right)}}{\\left(1 - \\cos{\\left(x \\right)}\\right)^{2}} - \\frac{2 \\left(\\sin{\\left(x \\right)} + 1\\right)^{2} \\sin{\\left(x \\right)}}{\\left(1 - \\cos{\\left(x \\right)}\\right)^{3}}$"
      ],
      "text/plain": [
       "2*(sin(x) + 1)*cos(x)/(1 - cos(x))**2 - 2*(sin(x) + 1)**2*sin(x)/(1 - cos(x))**3"
      ]
     },
     "execution_count": 146,
     "metadata": {},
     "output_type": "execute_result"
    }
   ],
   "source": [
    "sp.diff(((1+sp.sin(x)) / (1 - sp.cos(x)))**2, x)"
   ]
  },
  {
   "cell_type": "code",
   "execution_count": 148,
   "id": "9aa0f0ac",
   "metadata": {},
   "outputs": [
    {
     "data": {
      "text/latex": [
       "$\\displaystyle \\frac{2 \\left(- \\sqrt{2} \\cos{\\left(x + \\frac{\\pi}{4} \\right)} + 1\\right) \\left(\\sin{\\left(x \\right)} + 1\\right)}{\\left(\\cos{\\left(x \\right)} - 1\\right)^{3}}$"
      ],
      "text/plain": [
       "2*(-sqrt(2)*cos(x + pi/4) + 1)*(sin(x) + 1)/(cos(x) - 1)**3"
      ]
     },
     "execution_count": 148,
     "metadata": {},
     "output_type": "execute_result"
    }
   ],
   "source": [
    "first_derivative = sp.diff(((1+sp.sin(x)) / (1 - sp.cos(x)))**2, x).simplify()\n",
    "first_derivative"
   ]
  },
  {
   "cell_type": "code",
   "execution_count": 151,
   "id": "a9bbf6cf",
   "metadata": {},
   "outputs": [
    {
     "data": {
      "text/latex": [
       "$\\displaystyle \\frac{6 \\left(- \\sqrt{2} \\cos{\\left(x + \\frac{\\pi}{4} \\right)} + 1\\right) \\left(\\sin{\\left(x \\right)} + 1\\right) \\sin{\\left(x \\right)}}{\\left(\\cos{\\left(x \\right)} - 1\\right)^{4}} + \\frac{2 \\left(- \\sqrt{2} \\cos{\\left(x + \\frac{\\pi}{4} \\right)} + 1\\right) \\cos{\\left(x \\right)}}{\\left(\\cos{\\left(x \\right)} - 1\\right)^{3}} + \\frac{2 \\sqrt{2} \\left(\\sin{\\left(x \\right)} + 1\\right) \\sin{\\left(x + \\frac{\\pi}{4} \\right)}}{\\left(\\cos{\\left(x \\right)} - 1\\right)^{3}}$"
      ],
      "text/plain": [
       "6*(-sqrt(2)*cos(x + pi/4) + 1)*(sin(x) + 1)*sin(x)/(cos(x) - 1)**4 + 2*(-sqrt(2)*cos(x + pi/4) + 1)*cos(x)/(cos(x) - 1)**3 + 2*sqrt(2)*(sin(x) + 1)*sin(x + pi/4)/(cos(x) - 1)**3"
      ]
     },
     "execution_count": 151,
     "metadata": {},
     "output_type": "execute_result"
    }
   ],
   "source": [
    "sp.diff(first_derivative, x)"
   ]
  },
  {
   "cell_type": "code",
   "execution_count": 152,
   "id": "d9ea7178",
   "metadata": {},
   "outputs": [
    {
     "data": {
      "text/latex": [
       "$\\displaystyle \\frac{2 \\left(- 3 \\left(\\sqrt{2} \\cos{\\left(x + \\frac{\\pi}{4} \\right)} - 1\\right) \\left(\\sin{\\left(x \\right)} + 1\\right) \\sin{\\left(x \\right)} + \\left(\\cos{\\left(x \\right)} - 1\\right) \\left(\\sin{\\left(x \\right)} + \\sin{\\left(2 x \\right)} + 2 \\cos{\\left(x \\right)} - \\cos{\\left(2 x \\right)}\\right)\\right)}{\\left(\\cos{\\left(x \\right)} - 1\\right)^{4}}$"
      ],
      "text/plain": [
       "2*(-3*(sqrt(2)*cos(x + pi/4) - 1)*(sin(x) + 1)*sin(x) + (cos(x) - 1)*(sin(x) + sin(2*x) + 2*cos(x) - cos(2*x)))/(cos(x) - 1)**4"
      ]
     },
     "execution_count": 152,
     "metadata": {},
     "output_type": "execute_result"
    }
   ],
   "source": [
    "sp.diff(first_derivative, x).simplify()"
   ]
  },
  {
   "cell_type": "code",
   "execution_count": null,
   "id": "4ea299fe",
   "metadata": {},
   "outputs": [],
   "source": []
  },
  {
   "cell_type": "code",
   "execution_count": null,
   "id": "3c67d070",
   "metadata": {},
   "outputs": [],
   "source": []
  },
  {
   "cell_type": "code",
   "execution_count": null,
   "id": "54c390a0",
   "metadata": {},
   "outputs": [],
   "source": []
  },
  {
   "cell_type": "markdown",
   "id": "7a346e05",
   "metadata": {},
   "source": [
    "# SciPy"
   ]
  },
  {
   "cell_type": "code",
   "execution_count": null,
   "id": "cfc97c2a",
   "metadata": {},
   "outputs": [],
   "source": []
  },
  {
   "cell_type": "markdown",
   "id": "f235fff7",
   "metadata": {},
   "source": [
    "# Curve fitting"
   ]
  },
  {
   "cell_type": "code",
   "execution_count": 198,
   "id": "c9c67a3b",
   "metadata": {},
   "outputs": [],
   "source": [
    "t_data = np.array([ 0.   ,  0.34482759,  0.68965517,  1.03448276,  1.37931034, 1.72413793,  2.06896552,  2.4137931 ,  2.75862069,  3.10344828,3.44827586,  3.79310345,  4.13793103,  4.48275862,  4.82758621,5.17241379,  5.51724138,  5.86206897,  6.20689655,  6.55172414,6.89655172,  7.24137931,  7.5862069 ,  7.93103448,  8.27586207,8.62068966,  8.96551724,  9.31034483,  9.65517241, 10.        ])\n",
    "y_data = np.array([ 4.3303953 ,  1.61137995, -2.15418696, -3.90137249, -1.67259042,2.16884383,  3.86635998,  1.85194506, -1.8489224 , -3.96560495,-2.13385255,  1.59425817,  4.06145238,  1.89300594, -1.76870297,-4.26791226, -2.46874133,  1.37019912,  4.24945607,  2.27038039,-1.50299303, -3.46774049, -2.50845488,  1.20022052,  3.81633703,2.91511556, -1.24569189, -3.72716214, -2.54549857,  0.87262548])"
   ]
  },
  {
   "cell_type": "code",
   "execution_count": 199,
   "id": "e6ffe513",
   "metadata": {},
   "outputs": [
    {
     "data": {
      "text/plain": [
       "array([3.94836219, 2.9989952 , 0.10411352])"
      ]
     },
     "execution_count": 199,
     "metadata": {},
     "output_type": "execute_result"
    }
   ],
   "source": [
    "from scipy.optimize import curve_fit\n",
    "\n",
    "def func(x, A, w, phi):\n",
    "    return A*np.cos(w*x+phi)\n",
    "\n",
    "popt, pcov = curve_fit(func, t_data, y_data, p0=(4, np.pi, 0))\n",
    "popt"
   ]
  },
  {
   "cell_type": "code",
   "execution_count": 206,
   "id": "6485f3f3",
   "metadata": {},
   "outputs": [
    {
     "data": {
      "text/plain": [
       "[<matplotlib.lines.Line2D at 0x7f30fafdf670>]"
      ]
     },
     "execution_count": 206,
     "metadata": {},
     "output_type": "execute_result"
    },
    {
     "data": {
      "image/png": "[encoded data removed]",
      "text/plain": [
       "<Figure size 432x288 with 1 Axes>"
      ]
     },
     "metadata": {
      "needs_background": "light"
     },
     "output_type": "display_data"
    }
   ],
   "source": [
    "A, w, phi = popt\n",
    "t = np.linspace(0, 10, 100)\n",
    "y = func(t, A, w, phi)\n",
    "\n",
    "\n",
    "plt.scatter(t_data,y_data)\n",
    "plt.plot(t,y, 'g')"
   ]
  },
  {
   "cell_type": "markdown",
   "id": "cc8c6e70",
   "metadata": {},
   "source": [
    "# Furijeova transformacija"
   ]
  },
  {
   "cell_type": "code",
   "execution_count": 211,
   "id": "1c77583c",
   "metadata": {},
   "outputs": [
    {
     "data": {
      "text/plain": [
       "[<matplotlib.lines.Line2D at 0x7f30fad18a90>]"
      ]
     },
     "execution_count": 211,
     "metadata": {},
     "output_type": "execute_result"
    },
    {
     "data": {
      "image/png": "[encoded data removed]",
      "text/plain": [
       "<Figure size 432x288 with 1 Axes>"
      ]
     },
     "metadata": {
      "needs_background": "light"
     },
     "output_type": "display_data"
    }
   ],
   "source": [
    "# signal\n",
    "x = np.linspace(0, 10*np.pi, 100)\n",
    "y = np.sin(2*np.pi*x) + np.sin(4*np.pi*x) + 0.1*np.random.randn(len(x))\n",
    "plt.plot(x, y)"
   ]
  },
  {
   "cell_type": "code",
   "execution_count": 216,
   "id": "92b10147",
   "metadata": {
    "scrolled": true
   },
   "outputs": [
    {
     "data": {
      "image/png": "[encoded data removed]",
      "text/plain": [
       "<Figure size 432x288 with 1 Axes>"
      ]
     },
     "metadata": {
      "needs_background": "light"
     },
     "output_type": "display_data"
    }
   ],
   "source": [
    "from scipy.fft import fft, fftfreq\n",
    "\n",
    "N = len(y)\n",
    "yf = fft(y)[:N//2] # N//2 -> samo pozitivni deo(inace se dobija simetricna funkcija)\n",
    "xf = fftfreq(N, np.diff(x)[0])[:N//2]\n",
    "\n",
    "plt.plot(xf, np.abs(yf))\n",
    "plt.show()"
   ]
  },
  {
   "cell_type": "code",
   "execution_count": null,
   "id": "2f13a660",
   "metadata": {},
   "outputs": [],
   "source": []
  },
  {
   "cell_type": "markdown",
   "id": "3290a3fb",
   "metadata": {},
   "source": [
    "$v' - \\alpha v^2 + \\beta = 0$"
   ]
  },
  {
   "cell_type": "code",
   "execution_count": 217,
   "id": "c27b3c6b",
   "metadata": {},
   "outputs": [],
   "source": [
    "from scipy.integrate import odeint"
   ]
  },
  {
   "cell_type": "code",
   "execution_count": 231,
   "id": "a63fb76f",
   "metadata": {
    "scrolled": true
   },
   "outputs": [
    {
     "data": {
      "text/plain": [
       "array([[ 0.        ],\n",
       "       [-0.05047933],\n",
       "       [-0.10080451],\n",
       "       [-0.15082334],\n",
       "       [-0.20038726]])"
      ]
     },
     "execution_count": 231,
     "metadata": {},
     "output_type": "execute_result"
    }
   ],
   "source": [
    "def dvdt(v, y):\n",
    "    return 3 * v**2 - 5\n",
    "\n",
    "# pocetni uslov\n",
    "v0 = 0\n",
    "# domen\n",
    "t = np.linspace(0, 1, 100)\n",
    "\n",
    "solution = odeint(dvdt, v0, t)\n",
    "solution[:5]"
   ]
  },
  {
   "cell_type": "code",
   "execution_count": 230,
   "id": "d794ea58",
   "metadata": {
    "scrolled": true
   },
   "outputs": [
    {
     "data": {
      "text/plain": [
       "[<matplotlib.lines.Line2D at 0x7f30fa7a49d0>]"
      ]
     },
     "execution_count": 230,
     "metadata": {},
     "output_type": "execute_result"
    },
    {
     "data": {
      "image/png": "[encoded data removed]",
      "text/plain": [
       "<Figure size 432x288 with 1 Axes>"
      ]
     },
     "metadata": {
      "needs_background": "light"
     },
     "output_type": "display_data"
    }
   ],
   "source": [
    "y = solution.T[0]\n",
    "plt.plot(t, y)"
   ]
  },
  {
   "cell_type": "code",
   "execution_count": null,
   "id": "98fbd9c8",
   "metadata": {},
   "outputs": [],
   "source": []
  },
  {
   "cell_type": "code",
   "execution_count": null,
   "id": "3d8ada22",
   "metadata": {},
   "outputs": [],
   "source": []
  },
  {
   "cell_type": "markdown",
   "id": "313a4fc8",
   "metadata": {},
   "source": [
    "$F(k) = \\int_{-\\infty}^{\\infty} f(x) e^{-2\\pi i x k} dx$"
   ]
  },
  {
   "cell_type": "code",
   "execution_count": 12,
   "id": "b972565e",
   "metadata": {},
   "outputs": [
    {
     "data": {
      "text/latex": [
       "$\\displaystyle \\sqrt{\\pi} e^{- \\pi^{2} k^{2}}$"
      ],
      "text/plain": [
       "sqrt(pi)*exp(-pi**2*k**2)"
      ]
     },
     "execution_count": 12,
     "metadata": {},
     "output_type": "execute_result"
    }
   ],
   "source": [
    "from sympy import fourier_transform\n",
    "\n",
    "x, k = sp.symbols('x k')\n",
    "\n",
    "fourier_transform(sp.exp(-x**2), x, k)"
   ]
  },
  {
   "cell_type": "code",
   "execution_count": 17,
   "id": "f2132d23",
   "metadata": {},
   "outputs": [
    {
     "data": {
      "text/latex": [
       "$\\displaystyle e^{- \\alpha t}$"
      ],
      "text/plain": [
       "exp(-alpha*t)"
      ]
     },
     "execution_count": 17,
     "metadata": {},
     "output_type": "execute_result"
    }
   ],
   "source": [
    "from sympy import laplace_transform\n",
    "\n",
    "a, t, s = sp.symbols('alpha t s')\n",
    "func = sp.exp(-a * t)\n",
    "func"
   ]
  },
  {
   "cell_type": "code",
   "execution_count": 23,
   "id": "69eb32c5",
   "metadata": {},
   "outputs": [
    {
     "data": {
      "text/plain": [
       "(1/(alpha + s), 0, Abs(arg(alpha)) <= pi/2)"
      ]
     },
     "execution_count": 23,
     "metadata": {},
     "output_type": "execute_result"
    }
   ],
   "source": [
    "laplace_transform(func, t, s)"
   ]
  },
  {
   "cell_type": "code",
   "execution_count": 22,
   "id": "310c0ca5",
   "metadata": {
    "scrolled": true
   },
   "outputs": [
    {
     "data": {
      "text/latex": [
       "$\\displaystyle \\frac{1}{\\alpha + s}$"
      ],
      "text/plain": [
       "1/(alpha + s)"
      ]
     },
     "execution_count": 22,
     "metadata": {},
     "output_type": "execute_result"
    }
   ],
   "source": [
    "laplace_transform(func, t ,s, noconds=True) # bez uslova"
   ]
  },
  {
   "cell_type": "code",
   "execution_count": null,
   "id": "badc5c17",
   "metadata": {},
   "outputs": [],
   "source": []
  },
  {
   "cell_type": "code",
   "execution_count": 26,
   "id": "5abd2ed3",
   "metadata": {},
   "outputs": [],
   "source": [
    "n = sp.symbols('n')"
   ]
  },
  {
   "cell_type": "code",
   "execution_count": 65,
   "id": "69cded4b",
   "metadata": {
    "scrolled": true
   },
   "outputs": [
    {
     "data": {
      "text/latex": [
       "$\\displaystyle \\sum_{n=0}^{\\infty} 2^{n + 1} \\cdot 5^{- n}$"
      ],
      "text/plain": [
       "Sum(2**(n + 1)/5**n, (n, 0, oo))"
      ]
     },
     "execution_count": 65,
     "metadata": {},
     "output_type": "execute_result"
    }
   ],
   "source": [
    "red = sp.Sum(2**(n+1) / 5**n, (n,0,sp.oo))\n",
    "red"
   ]
  },
  {
   "cell_type": "code",
   "execution_count": 64,
   "id": "fb9535f4",
   "metadata": {
    "scrolled": true
   },
   "outputs": [
    {
     "data": {
      "text/latex": [
       "$\\displaystyle \\frac{10}{3}$"
      ],
      "text/plain": [
       "10/3"
      ]
     },
     "execution_count": 64,
     "metadata": {},
     "output_type": "execute_result"
    }
   ],
   "source": [
    "red.doit()"
   ]
  },
  {
   "cell_type": "markdown",
   "id": "be7730ee",
   "metadata": {},
   "source": [
    "$\\sum_{n=0}^{+\\infty}\\frac{f^{(n)} (a)}{n!} (x-a)^n$"
   ]
  },
  {
   "cell_type": "code",
   "execution_count": 66,
   "id": "ac0f6342",
   "metadata": {},
   "outputs": [
    {
     "data": {
      "text/latex": [
       "$\\displaystyle e^{x + 1}$"
      ],
      "text/plain": [
       "exp(x + 1)"
      ]
     },
     "execution_count": 66,
     "metadata": {},
     "output_type": "execute_result"
    }
   ],
   "source": [
    "# Tajlorov red\n",
    "\n",
    "func = sp.exp(1 * x + 1)\n",
    "func"
   ]
  },
  {
   "cell_type": "code",
   "execution_count": 67,
   "id": "b8c4c119",
   "metadata": {},
   "outputs": [
    {
     "data": {
      "text/latex": [
       "$\\displaystyle e + e x + \\frac{e x^{2}}{2} + \\frac{e x^{3}}{6} + \\frac{e x^{4}}{24} + \\frac{e x^{5}}{120} + O\\left(x^{6}\\right)$"
      ],
      "text/plain": [
       "E + E*x + E*x**2/2 + E*x**3/6 + E*x**4/24 + E*x**5/120 + O(x**6)"
      ]
     },
     "execution_count": 67,
     "metadata": {},
     "output_type": "execute_result"
    }
   ],
   "source": [
    "sp.series(func) # a = 0 (Maklorenov red)"
   ]
  },
  {
   "cell_type": "code",
   "execution_count": 68,
   "id": "997f863a",
   "metadata": {},
   "outputs": [
    {
     "data": {
      "text/latex": [
       "$\\displaystyle e^{6} + \\left(x - 5\\right) e^{6} + \\frac{\\left(x - 5\\right)^{2} e^{6}}{2} + \\frac{\\left(x - 5\\right)^{3} e^{6}}{6} + \\frac{\\left(x - 5\\right)^{4} e^{6}}{24} + \\frac{\\left(x - 5\\right)^{5} e^{6}}{120} + O\\left(\\left(x - 5\\right)^{6}; x\\rightarrow 5\\right)$"
      ],
      "text/plain": [
       "exp(6) + (x - 5)*exp(6) + (x - 5)**2*exp(6)/2 + (x - 5)**3*exp(6)/6 + (x - 5)**4*exp(6)/24 + (x - 5)**5*exp(6)/120 + O((x - 5)**6, (x, 5))"
      ]
     },
     "execution_count": 68,
     "metadata": {},
     "output_type": "execute_result"
    }
   ],
   "source": [
    "sp.series(func, x, 5) # a = 5"
   ]
  },
  {
   "cell_type": "code",
   "execution_count": 69,
   "id": "1bd633ef",
   "metadata": {},
   "outputs": [
    {
     "data": {
      "text/latex": [
       "$\\displaystyle - 4 \\cos{\\left(x \\right)} + \\cos{\\left(2 x \\right)} + \\frac{\\frac{2 \\pi^{3}}{3} + 10 \\pi}{2 \\pi} + \\ldots$"
      ],
      "text/plain": [
       "FourierSeries(x**2 + 5, (x, -pi, pi), ((2*pi**3/3 + 10*pi)/(2*pi), SeqFormula(Piecewise((10*sin(_n*pi)/_n + 2*pi**2*sin(_n*pi)/_n + 4*pi*cos(_n*pi)/_n**2 - 4*sin(_n*pi)/_n**3, (_n > -oo) & (_n < oo) & Ne(_n, 0)), (2*pi**3/3 + 10*pi, True))*cos(_n*x)/pi, (_n, 1, oo)), SeqFormula(0, (_k, 1, oo))))"
      ]
     },
     "execution_count": 69,
     "metadata": {},
     "output_type": "execute_result"
    }
   ],
   "source": [
    "sp.fourier_series((x**2 + 5))"
   ]
  }
 ],
 "metadata": {
  "kernelspec": {
   "display_name": "Python 3 (ipykernel)",
   "language": "python",
   "name": "python3"
  },
  "language_info": {
   "codemirror_mode": {
    "name": "ipython",
    "version": 3
   },
   "file_extension": ".py",
   "mimetype": "text/x-python",
   "name": "python",
   "nbconvert_exporter": "python",
   "pygments_lexer": "ipython3",
   "version": "3.9.7"
  }
 },
 "nbformat": 4,
 "nbformat_minor": 5
}
